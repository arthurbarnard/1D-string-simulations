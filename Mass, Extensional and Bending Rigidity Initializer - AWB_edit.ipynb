{
 "cells": [
  {
   "cell_type": "code",
   "execution_count": 5,
   "metadata": {},
   "outputs": [],
   "source": [
    "import numpy as np\n",
    "import matplotlib\n",
    "import matplotlib.pyplot as plt"
   ]
  },
  {
   "cell_type": "code",
   "execution_count": 71,
   "metadata": {},
   "outputs": [
    {
     "name": "stdout",
     "output_type": "stream",
     "text": [
      "[1.6010101e-22 1.6010101e-22 1.6010101e-22 1.6010101e-22 1.6010101e-22\n",
      " 1.6010101e-22 1.6010101e-22 1.6010101e-22 1.6010101e-22 1.6010101e-22\n",
      " 1.6010101e-22 1.6010101e-22 1.6010101e-22 1.6010101e-22 1.6010101e-22\n",
      " 1.6010101e-22 1.6010101e-22 1.6010101e-22 1.6010101e-22 1.6010101e-22\n",
      " 1.6010101e-22 1.6010101e-22 1.6010101e-22 1.6010101e-22 1.6010101e-22\n",
      " 1.6010101e-22 1.6010101e-22 1.6010101e-22 1.6010101e-22 1.6010101e-22\n",
      " 1.6010101e-22 1.6010101e-22 1.6010101e-22 1.6010101e-22 1.6010101e-22\n",
      " 1.6010101e-22 1.6010101e-22 1.6010101e-22 1.6010101e-22 1.6010101e-22\n",
      " 1.6010101e-22 1.6010101e-22 1.6010101e-22 1.6010101e-22 1.6010101e-22\n",
      " 1.6010101e-22 1.6010101e-22 1.6010101e-22 1.6010101e-22 1.6010101e-22\n",
      " 1.6010101e-22 1.6010101e-22 1.6010101e-22 1.6010101e-22 1.6010101e-22\n",
      " 1.6010101e-22 1.6010101e-22 1.6010101e-22 1.6010101e-22 1.6010101e-22\n",
      " 1.6010101e-22 1.6010101e-22 1.6010101e-22 1.6010101e-22 1.6010101e-22\n",
      " 1.6010101e-22 1.6010101e-22 1.6010101e-22 1.6010101e-22 1.6010101e-22\n",
      " 1.6010101e-22 1.6010101e-22 1.6010101e-22 1.6010101e-22 1.6010101e-22\n",
      " 1.6010101e-22 1.6010101e-22 1.6010101e-22 1.6010101e-22 1.6010101e-22\n",
      " 1.6010101e-22 1.6010101e-22 1.6010101e-22 1.6010101e-22 1.6010101e-22\n",
      " 1.6010101e-22 1.6010101e-22 1.6010101e-22 1.6010101e-22 1.6010101e-22\n",
      " 1.6010101e-22 1.6010101e-22 1.6010101e-22 1.6010101e-22 1.6010101e-22\n",
      " 1.6010101e-22 1.6010101e-22 1.6010101e-22 1.6010101e-22 1.6010101e-22\n",
      " 1.6010101e-22 1.6010101e-22]\n",
      "[1.98e-26 1.98e-26 1.98e-26 1.98e-26 1.98e-26 1.98e-26 1.98e-26 1.98e-26\n",
      " 1.98e-26 1.98e-26 1.98e-26 1.98e-26 1.98e-26 1.98e-26 1.98e-26 1.98e-26\n",
      " 1.98e-26 1.98e-26 1.98e-26 1.98e-26 1.98e-26 1.98e-26 1.98e-26 1.98e-26\n",
      " 1.98e-26 1.98e-26 1.98e-26 1.98e-26 1.98e-26 1.98e-26 1.98e-26 1.98e-26\n",
      " 1.98e-26 1.98e-26 1.98e-26 1.98e-26 1.98e-26 1.98e-26 1.98e-26 1.98e-26\n",
      " 1.98e-26 1.98e-26 1.98e-26 1.98e-26 1.98e-26 1.98e-26 1.98e-26 1.98e-26\n",
      " 1.98e-26 1.98e-26 1.98e-26 1.98e-26 1.98e-26 1.98e-26 1.98e-26 1.98e-26\n",
      " 1.98e-26 1.98e-26 1.98e-26 1.98e-26 1.98e-26 1.98e-26 1.98e-26 1.98e-26\n",
      " 1.98e-26 1.98e-26 1.98e-26 1.98e-26 1.98e-26 1.98e-26 1.98e-26 1.98e-26\n",
      " 1.98e-26 1.98e-26 1.98e-26 1.98e-26 1.98e-26 1.98e-26 1.98e-26 1.98e-26\n",
      " 1.98e-26 1.98e-26 1.98e-26 1.98e-26 1.98e-26 1.98e-26 1.98e-26 1.98e-26\n",
      " 1.98e-26 1.98e-26 1.98e-26 1.98e-26 1.98e-26 1.98e-26 1.98e-26 1.98e-26\n",
      " 1.98e-26 1.98e-26 1.98e-26 1.98e-26 1.98e-26 1.98e-26]\n",
      "[3.96e-27 3.96e-27 3.96e-27 3.96e-27 3.96e-27 3.96e-27 3.96e-27 3.96e-27\n",
      " 3.96e-27 3.96e-27 3.96e-27 3.96e-27 3.96e-27 3.96e-27 3.96e-27 3.96e-27\n",
      " 3.96e-27 3.96e-27 3.96e-27 3.96e-27 3.96e-27 3.96e-27 3.96e-27 3.96e-27\n",
      " 3.96e-27 3.96e-27 3.96e-27 3.96e-27 3.96e-27 3.96e-27 3.96e-27 3.96e-27\n",
      " 3.96e-27 3.96e-27 3.96e-27 3.96e-27 3.96e-27 3.96e-27 3.96e-27 3.96e-27\n",
      " 3.96e-27 3.96e-27 3.96e-27 3.96e-27 3.96e-27 3.96e-27 3.96e-27 3.96e-27\n",
      " 3.96e-27 3.96e-27 3.96e-27 3.96e-27 3.96e-27 3.96e-27 3.96e-27 3.96e-27\n",
      " 3.96e-27 3.96e-27 3.96e-27 3.96e-27 3.96e-27 3.96e-27 3.96e-27 3.96e-27\n",
      " 3.96e-27 3.96e-27 3.96e-27 3.96e-27 3.96e-27 3.96e-27 3.96e-27 3.96e-27\n",
      " 3.96e-27 3.96e-27 3.96e-27 3.96e-27 3.96e-27 3.96e-27 3.96e-27 3.96e-27\n",
      " 3.96e-27 3.96e-27 3.96e-27 3.96e-27 3.96e-27 3.96e-27 3.96e-27 3.96e-27\n",
      " 3.96e-27 3.96e-27 3.96e-27 3.96e-27 3.96e-27 3.96e-27 3.96e-27 3.96e-27\n",
      " 3.96e-27 3.96e-27 3.96e-27 3.96e-27 3.96e-27 3.96e-27]\n"
     ]
    }
   ],
   "source": [
    "##Here will calculate mass,K_cnt, and kap_cnt based on known values.\n",
    "\n",
    "#Length= 10000 #length of CNT in nm\n",
    "Length = 5000 #length of DNA molecule in nm\n",
    "mu0 = 3.17E-24 #mass per unit length of DNA in kg/nm\n",
    "stiffness=1E-24\n",
    "Bs=2E-25\n",
    "strain = 0\n",
    "\n",
    "Npoints= 102 #number of masses in DNA\n",
    "\n",
    "N_cnt= Npoints*6 #number of masses in DNA with with the degrees of freedom per mass included\n",
    "#sigma= 7.767E-25 #kg/nm^2\n",
    "\n",
    "X0_cnt= (Length)/(Npoints-3) #discrete length of DNA in nm\n",
    "\n",
    "#mass= mu0*X0_cnt #mass of a CNT in kg\n",
    "mass= 3.17E-24*X0_cnt #mass of DNA in kg\n",
    "\n",
    "#K_cnt= (np.pi*C*d_cnt)/(X0_cnt) #spring constant of CNT in kg/ps^2\n",
    "K_cnt= stiffness/X0_cnt #spring constant of DNA in kg/ps^2\n",
    "\n",
    "#kap_cnt= (K_cnt*d_cnt*d_cnt)/8 #torque applied to CNT in kg*nm^3/ps^2\n",
    "kap_cnt= Bs/X0_cnt #torque applied to CNT in kg*nm^3/ps^2 at 300K\n",
    "\n",
    "##We now populate arrays using the calculated values\n",
    "\n",
    "mass_array=np.zeros(Npoints)\n",
    "K_cnt_array=np.zeros(Npoints)\n",
    "kap_cnt_array=np.zeros(Npoints)\n",
    "\n",
    "mass_array.fill(mass)\n",
    "K_cnt_array.fill(K_cnt)\n",
    "kap_cnt_array.fill(kap_cnt)\n",
    "print(mass_array)\n",
    "print(K_cnt_array)\n",
    "print(kap_cnt_array)"
   ]
  },
  {
   "cell_type": "code",
   "execution_count": 72,
   "metadata": {},
   "outputs": [],
   "source": [
    "##Here we write in files for mass,K_cnt, and kap_cnt using the populated arrays above\n",
    "\n",
    "_fbase= './initfiles/mass'\n",
    "for i in range(0,48):\n",
    "    _fname= _fbase + '_%03d' % i + '.txt'\n",
    "    _fid=open(_fname,'w+b')\n",
    "    _fid.write(bytearray(mass_array))\n",
    "    _fid.close()\n",
    "\n",
    "_fbase='./initfiles/K_cnt'\n",
    "for i in range(0,48):\n",
    "    fname= _fbase + '_%03d' % i + '.txt'\n",
    "    _fid=open(_fname,'w+b')\n",
    "    _fid.write(bytearray(K_cnt_array))\n",
    "    _fid.close()\n",
    "\n",
    "_fbase='./initfiles/kap_cnt'\n",
    "for i in range(0,48):\n",
    "    fname= _fbase + '_%03d' % i + '.txt'\n",
    "    _fid=open(_fname,'w+b')\n",
    "    _fid.write(bytearray(kap_cnt_array))\n",
    "    _fid.close()\n",
    "    "
   ]
  },
  {
   "cell_type": "code",
   "execution_count": 73,
   "metadata": {},
   "outputs": [
    {
     "data": {
      "image/png": "[encoded data removed]",
      "text/plain": [
       "<Figure size 432x288 with 1 Axes>"
      ]
     },
     "metadata": {
      "needs_background": "light"
     },
     "output_type": "display_data"
    }
   ],
   "source": [
    "##Here we calculate the initial position of a string with persistence length similar to DNA (The XO_cnt calculated above)\n",
    "\n",
    "_x=np.arange(0,Npoints)[:]\n",
    "_y=np.zeros(np.shape(_x))\n",
    "\n",
    "_y=_x*0\n",
    "\n",
    "x=np.zeros(Npoints)\n",
    "x[::]=_x*X0_cnt*(1+strain)\n",
    "y=np.zeros(Npoints)\n",
    "y[::]=_y\n",
    "\n",
    "#print(x)\n",
    "#print(y)\n",
    "\n",
    "_outdata=np.zeros(Npoints*6)\n",
    "_outdata[0::6]=x\n",
    "_outdata[1::6]=y\n",
    "\n",
    "#print(_outdata)\n",
    "\n",
    "plt.plot(x,y)\n",
    "plt.show()"
   ]
  },
  {
   "cell_type": "code",
   "execution_count": 74,
   "metadata": {},
   "outputs": [],
   "source": [
    "##Generate an inputFile for the initial position of this DNA molecule\n",
    "\n",
    "_fbase='./initfiles/inputFile'\n",
    "for i in range(0,48):\n",
    "    _fname= _fbase + '_%03d'%i + '.txt'\n",
    "    _fid=open(_fname,'w+b')\n",
    "    _fid.write(bytearray(_outdata))\n",
    "    _fid.close()"
   ]
  },
  {
   "cell_type": "code",
   "execution_count": 75,
   "metadata": {},
   "outputs": [
    {
     "data": {
      "image/png": "[encoded data removed]",
      "text/plain": [
       "<Figure size 432x288 with 1 Axes>"
      ]
     },
     "metadata": {
      "needs_background": "light"
     },
     "output_type": "display_data"
    }
   ],
   "source": [
    "##Read in file to double check that we generated the file successfully \n",
    "\n",
    "_fname='./initfiles/inputFile_047.txt'\n",
    "_fid=open(_fname)\n",
    "_data=np.fromfile(_fid,dtype='float')\n",
    "_fid.close()\n",
    "x_init=_data[0::6]\n",
    "y_init=_data[1::6]\n",
    "plt.plot(x_init,y_init)\n",
    "plt.show()"
   ]
  },
  {
   "cell_type": "code",
   "execution_count": 76,
   "metadata": {},
   "outputs": [
    {
     "name": "stdout",
     "output_type": "stream",
     "text": [
      "3.128e-26\n",
      "1.5280000000000002e-26\n"
     ]
    }
   ],
   "source": [
    "_fbase= './initfiles1/K_cnt'\n",
    "\n",
    "DNA_stiffness_max=1564E-12\n",
    "DNA_stiffness_min=764E-12\n",
    "X0_cnt=50E-9\n",
    "K_cnt_max=(DNA_stiffness_max/X0_cnt)*1E-24\n",
    "K_cnt_min=(DNA_stiffness_min/X0_cnt)*1E-24\n",
    "print(K_cnt_max)\n",
    "print(K_cnt_min)\n",
    "\n",
    "for n in range(48):\n",
    "    _x=np.arange(Npoints-1)\n",
    "    _y=np.zeros(Npoints-1)\n",
    "    _y2=np.zeros(Npoints-1)\n",
    "\n",
    "    _y=K_cnt_max*(np.cos(n*(_x+1)*2*np.pi/Npoints)>0).astype(float)\n",
    "    \n",
    "    _y[_y<K_cnt_max] = K_cnt_min\n",
    "    \n",
    "    _fname= _fbase + '_%03d'%n + '.txt'\n",
    "    _fid=open(_fname,'w+b')\n",
    "    _fid.write(bytearray(_y))\n",
    "    _fid.close()    "
   ]
  },
  {
   "cell_type": "code",
   "execution_count": 77,
   "metadata": {},
   "outputs": [
    {
     "data": {
      "image/png": "[encoded data removed]",
      "text/plain": [
       "<Figure size 1080x360 with 1 Axes>"
      ]
     },
     "metadata": {
      "needs_background": "light"
     },
     "output_type": "display_data"
    }
   ],
   "source": [
    "##Read in file to double check that we generated the file successfully \n",
    "fig = plt.figure(figsize=(15,5))\n",
    "_fname='./initfiles1/K_cnt_003.txt'\n",
    "_fid=open(_fname)\n",
    "_data=np.fromfile(_fid,dtype='float')\n",
    "_fid.close()\n",
    "plt.plot(_data,'.')\n",
    "plt.plot(_data[::-1],'.')\n",
    "\n",
    "plt.show()"
   ]
  },
  {
   "cell_type": "code",
   "execution_count": 78,
   "metadata": {},
   "outputs": [
    {
     "data": {
      "text/plain": [
       "102"
      ]
     },
     "execution_count": 78,
     "metadata": {},
     "output_type": "execute_result"
    }
   ],
   "source": [
    "Npoints"
   ]
  },
  {
   "cell_type": "code",
   "execution_count": null,
   "metadata": {},
   "outputs": [],
   "source": []
  },
  {
   "cell_type": "code",
   "execution_count": null,
   "metadata": {},
   "outputs": [],
   "source": []
  }
 ],
 "metadata": {
  "hide_input": false,
  "kernelspec": {
   "display_name": "Python 3",
   "language": "python",
   "name": "python3"
  },
  "language_info": {
   "codemirror_mode": {
    "name": "ipython",
    "version": 3
   },
   "file_extension": ".py",
   "mimetype": "text/x-python",
   "name": "python",
   "nbconvert_exporter": "python",
   "pygments_lexer": "ipython3",
   "version": "3.7.6"
  },
  "toc": {
   "nav_menu": {},
   "number_sections": true,
   "sideBar": true,
   "skip_h1_title": true,
   "toc_cell": false,
   "toc_position": {},
   "toc_section_display": "block",
   "toc_window_display": false
  }
 },
 "nbformat": 4,
 "nbformat_minor": 4
}
