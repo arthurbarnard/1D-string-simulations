{
 "cells": [
  {
   "cell_type": "code",
   "execution_count": 1,
   "metadata": {},
   "outputs": [],
   "source": [
    "import numpy as np\n",
    "import matplotlib\n",
    "import matplotlib.pyplot as plt"
   ]
  },
  {
   "cell_type": "code",
   "execution_count": 2,
   "metadata": {},
   "outputs": [
    {
     "name": "stdout",
     "output_type": "stream",
     "text": [
      "[1.59e-20 1.59e-20 1.59e-20 1.59e-20 1.59e-20 1.59e-20 1.59e-20 1.59e-20\n",
      " 1.59e-20 1.59e-20 1.59e-20 1.59e-20 1.59e-20 1.59e-20 1.59e-20 1.59e-20\n",
      " 1.59e-20 1.59e-20 1.59e-20 1.59e-20 1.59e-20 1.59e-20 1.59e-20 1.59e-20\n",
      " 1.59e-20 1.59e-20 1.59e-20 1.59e-20 1.59e-20 1.59e-20 1.59e-20 1.59e-20\n",
      " 1.59e-20 1.59e-20 1.59e-20 1.59e-20 1.59e-20 1.59e-20 1.59e-20 1.59e-20\n",
      " 1.59e-20 1.59e-20 1.59e-20 1.59e-20 1.59e-20 1.59e-20 1.59e-20 1.59e-20\n",
      " 1.59e-20 1.59e-20 1.59e-20 1.59e-20 1.59e-20 1.59e-20 1.59e-20 1.59e-20\n",
      " 1.59e-20 1.59e-20 1.59e-20 1.59e-20 1.59e-20 1.59e-20 1.59e-20 1.59e-20\n",
      " 1.59e-20 1.59e-20 1.59e-20 1.59e-20 1.59e-20 1.59e-20 1.59e-20 1.59e-20\n",
      " 1.59e-20 1.59e-20 1.59e-20 1.59e-20 1.59e-20 1.59e-20 1.59e-20 1.59e-20\n",
      " 1.59e-20 1.59e-20 1.59e-20 1.59e-20 1.59e-20 1.59e-20 1.59e-20 1.59e-20\n",
      " 1.59e-20 1.59e-20 1.59e-20 1.59e-20 1.59e-20 1.59e-20 1.59e-20 1.59e-20\n",
      " 1.59e-20 1.59e-20 1.59e-20 1.59e-20 1.59e-20 1.59e-20]\n",
      "[2.e-26 2.e-26 2.e-26 2.e-26 2.e-26 2.e-26 2.e-26 2.e-26 2.e-26 2.e-26\n",
      " 2.e-26 2.e-26 2.e-26 2.e-26 2.e-26 2.e-26 2.e-26 2.e-26 2.e-26 2.e-26\n",
      " 2.e-26 2.e-26 2.e-26 2.e-26 2.e-26 2.e-26 2.e-26 2.e-26 2.e-26 2.e-26\n",
      " 2.e-26 2.e-26 2.e-26 2.e-26 2.e-26 2.e-26 2.e-26 2.e-26 2.e-26 2.e-26\n",
      " 2.e-26 2.e-26 2.e-26 2.e-26 2.e-26 2.e-26 2.e-26 2.e-26 2.e-26 2.e-26\n",
      " 2.e-26 2.e-26 2.e-26 2.e-26 2.e-26 2.e-26 2.e-26 2.e-26 2.e-26 2.e-26\n",
      " 2.e-26 2.e-26 2.e-26 2.e-26 2.e-26 2.e-26 2.e-26 2.e-26 2.e-26 2.e-26\n",
      " 2.e-26 2.e-26 2.e-26 2.e-26 2.e-26 2.e-26 2.e-26 2.e-26 2.e-26 2.e-26\n",
      " 2.e-26 2.e-26 2.e-26 2.e-26 2.e-26 2.e-26 2.e-26 2.e-26 2.e-26 2.e-26\n",
      " 2.e-26 2.e-26 2.e-26 2.e-26 2.e-26 2.e-26 2.e-26 2.e-26 2.e-26 2.e-26\n",
      " 2.e-26 2.e-26]\n",
      "[2.07e-25 2.07e-25 2.07e-25 2.07e-25 2.07e-25 2.07e-25 2.07e-25 2.07e-25\n",
      " 2.07e-25 2.07e-25 2.07e-25 2.07e-25 2.07e-25 2.07e-25 2.07e-25 2.07e-25\n",
      " 2.07e-25 2.07e-25 2.07e-25 2.07e-25 2.07e-25 2.07e-25 2.07e-25 2.07e-25\n",
      " 2.07e-25 2.07e-25 2.07e-25 2.07e-25 2.07e-25 2.07e-25 2.07e-25 2.07e-25\n",
      " 2.07e-25 2.07e-25 2.07e-25 2.07e-25 2.07e-25 2.07e-25 2.07e-25 2.07e-25\n",
      " 2.07e-25 2.07e-25 2.07e-25 2.07e-25 2.07e-25 2.07e-25 2.07e-25 2.07e-25\n",
      " 2.07e-25 2.07e-25 2.07e-25 2.07e-25 2.07e-25 2.07e-25 2.07e-25 2.07e-25\n",
      " 2.07e-25 2.07e-25 2.07e-25 2.07e-25 2.07e-25 2.07e-25 2.07e-25 2.07e-25\n",
      " 2.07e-25 2.07e-25 2.07e-25 2.07e-25 2.07e-25 2.07e-25 2.07e-25 2.07e-25\n",
      " 2.07e-25 2.07e-25 2.07e-25 2.07e-25 2.07e-25 2.07e-25 2.07e-25 2.07e-25\n",
      " 2.07e-25 2.07e-25 2.07e-25 2.07e-25 2.07e-25 2.07e-25 2.07e-25 2.07e-25\n",
      " 2.07e-25 2.07e-25 2.07e-25 2.07e-25 2.07e-25 2.07e-25 2.07e-25 2.07e-25\n",
      " 2.07e-25 2.07e-25 2.07e-25 2.07e-25 2.07e-25 2.07e-25]\n"
     ]
    }
   ],
   "source": [
    "##Here will calculate mass,K_cnt, and kap_cnt based on known values.\n",
    "\n",
    "#Length= 10000 #length of CNT in nm\n",
    "Length= 5100 #length of DNA molecule in nm\n",
    "\n",
    "Npoints= 102 #number of masses in DNA\n",
    "\n",
    "N_cnt= Npoints*6 #number of masses in DNA with with the degrees of freedom per mass included\n",
    "#sigma= 7.767E-25 #kg/nm^2\n",
    "\n",
    "X0_cnt= (Length)/(Npoints-3) #discrete length of DNA in nm\n",
    "\n",
    "d_cnt =3 #diameter of CNT/DNA in nm\n",
    "\n",
    "#C= 3.45E-22 #2D mass density of graphene in kg/ps^2\n",
    "\n",
    "#mass= np.pi*sigma*d_cnt*X0_cnt #mass of a CNT in kg\n",
    "mass= 1.59E-20 #mass of DNA in kg\n",
    "\n",
    "#K_cnt= (np.pi*C*d_cnt)/(X0_cnt) #spring constant of CNT in kg/ps^2\n",
    "#K_cnt= 1.61E-31 #spring constant of DNA in kg/ps^2\n",
    "K_cnt= 2E-26 #spring constant of DNA in kg/ps^2\n",
    "\n",
    "#kap_cnt= (K_cnt*d_cnt*d_cnt)/8 #torque applied to CNT in kg*nm^3/ps^2\n",
    "kap_cnt= 2.07E-25 #torque applied to CNT in kg*nm^3/ps^2\n",
    "\n",
    "##We now populate arrays using the calculated values\n",
    "\n",
    "mass_array=np.zeros(Npoints)\n",
    "K_cnt_array=np.zeros(Npoints)\n",
    "kap_cnt_array=np.zeros(Npoints)\n",
    "\n",
    "mass_array.fill(mass)\n",
    "K_cnt_array.fill(K_cnt)\n",
    "kap_cnt_array.fill(kap_cnt)\n",
    "print(mass_array)\n",
    "print(K_cnt_array)\n",
    "print(kap_cnt_array)"
   ]
  },
  {
   "cell_type": "code",
   "execution_count": 3,
   "metadata": {},
   "outputs": [],
   "source": [
    "##Here we write in files for mass,K_cnt, and kap_cnt using the populated arrays above\n",
    "\n",
    "_fbase= './initfiles/mass'\n",
    "for i in range(0,10):\n",
    "    _fname= _fbase + '_00' + str(i) + '.txt'\n",
    "    _fid=open(_fname,'w+b')\n",
    "    _fid.write(bytearray(mass_array))\n",
    "    _fid.close()\n",
    "    \n",
    "for i in range(10,48):\n",
    "    _fname= _fbase + '_0' + str(i) + '.txt'\n",
    "    _fid=open(_fname,'w+b')\n",
    "    _fid.write(bytearray(mass_array))\n",
    "    _fid.close()\n",
    "\n",
    "_fbase='./initfiles/K_cnt'\n",
    "for i in range(0,10):\n",
    "    _fname= _fbase + '_00' + str(i) + '.txt'\n",
    "    _fid=open(_fname,'w+b')\n",
    "    _fid.write(bytearray(K_cnt_array))\n",
    "    _fid.close()\n",
    "    \n",
    "for i in range(10,48):\n",
    "    _fname= _fbase + '_0' + str(i) + '.txt'\n",
    "    _fid=open(_fname,'w+b')\n",
    "    _fid.write(bytearray(K_cnt_array))\n",
    "    _fid.close()\n",
    "\n",
    "_fbase='./initfiles/kap_cnt'\n",
    "for i in range(0,10):\n",
    "    _fname= _fbase + '_00' + str(i) + '.txt'\n",
    "    _fid=open(_fname,'w+b')\n",
    "    _fid.write(bytearray(kap_cnt_array))\n",
    "    _fid.close()\n",
    "    \n",
    "for i in range(10,48):\n",
    "    _fname= _fbase + '_0' + str(i) + '.txt'\n",
    "    _fid=open(_fname,'w+b')\n",
    "    _fid.write(bytearray(kap_cnt_array))\n",
    "    _fid.close()"
   ]
  },
  {
   "cell_type": "code",
   "execution_count": 4,
   "metadata": {},
   "outputs": [
    {
     "data": {
      "image/png": "[encoded data removed]",
      "text/plain": [
       "<Figure size 432x288 with 1 Axes>"
      ]
     },
     "metadata": {
      "needs_background": "light"
     },
     "output_type": "display_data"
    }
   ],
   "source": [
    "##Here we calculate the initial position of a string with persistence length similar to DNA (The XO_cnt calculated above)\n",
    "\n",
    "_x=np.linspace(0,Length,Npoints)[:]\n",
    "_y=np.zeros(np.shape(_x))\n",
    "\n",
    "_y=_x*0\n",
    "\n",
    "x=np.zeros(Npoints)\n",
    "x[::]=_x+X0_cnt\n",
    "y=np.zeros(Npoints)\n",
    "y[::]=_y\n",
    "\n",
    "#print(x)\n",
    "#print(y)\n",
    "\n",
    "_outdata=np.zeros(Npoints*6)\n",
    "_outdata[0::6]=x\n",
    "_outdata[1::6]=y\n",
    "\n",
    "#print(_outdata)\n",
    "\n",
    "plt.plot(x,y)\n",
    "plt.show()"
   ]
  },
  {
   "cell_type": "code",
   "execution_count": 5,
   "metadata": {},
   "outputs": [],
   "source": [
    "##Generate an inputFile for the initial position of this DNA molecule\n",
    "\n",
    "_fbase='./initfiles/inputFile'\n",
    "_fname= _fbase + '_0' + str(47) + '.txt'\n",
    "_fid=open(_fname,'w+b')\n",
    "_fid.write(bytearray(_outdata))\n",
    "_fid.close()"
   ]
  },
  {
   "cell_type": "code",
   "execution_count": 6,
   "metadata": {},
   "outputs": [
    {
     "data": {
      "image/png": "[encoded data removed]",
      "text/plain": [
       "<Figure size 432x288 with 1 Axes>"
      ]
     },
     "metadata": {
      "needs_background": "light"
     },
     "output_type": "display_data"
    }
   ],
   "source": [
    "##Read in file to double check that we generated the file successfully \n",
    "\n",
    "_fname='./initfiles/inputFile_047.txt'\n",
    "_fid=open(_fname)\n",
    "_data=np.fromfile(_fid,dtype='float')\n",
    "Npoints=len(_data)/6\n",
    "_fid.close()\n",
    "x_init=_data[0::6]\n",
    "y_init=_data[1::6]\n",
    "plt.plot(x_init,y_init)\n",
    "plt.show()"
   ]
  },
  {
   "cell_type": "code",
   "execution_count": null,
   "metadata": {},
   "outputs": [],
   "source": []
  },
  {
   "cell_type": "code",
   "execution_count": null,
   "metadata": {},
   "outputs": [],
   "source": []
  },
  {
   "cell_type": "code",
   "execution_count": null,
   "metadata": {},
   "outputs": [],
   "source": []
  }
 ],
 "metadata": {
  "kernelspec": {
   "display_name": "Python 3",
   "language": "python",
   "name": "python3"
  },
  "language_info": {
   "codemirror_mode": {
    "name": "ipython",
    "version": 3
   },
   "file_extension": ".py",
   "mimetype": "text/x-python",
   "name": "python",
   "nbconvert_exporter": "python",
   "pygments_lexer": "ipython3",
   "version": "3.7.6"
  }
 },
 "nbformat": 4,
 "nbformat_minor": 4
}
