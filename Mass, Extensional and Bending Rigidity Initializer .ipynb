{
 "cells": [
  {
   "cell_type": "code",
   "execution_count": 28,
   "metadata": {},
   "outputs": [],
   "source": [
    "import numpy as np\n",
    "import matplotlib\n",
    "import matplotlib.pyplot as plt"
   ]
  },
  {
   "cell_type": "code",
   "execution_count": 29,
   "metadata": {},
   "outputs": [],
   "source": [
    "Length=5000 #length in nm\n",
    "Npoints=102 #number of masses in CNT\n",
    "N_cnt=Npoints*6 #number of masses in CNT with with the degrees of freedom per mass included\n",
    "sigma=7.767E-25 #kg/nm^2\n",
    "X0_cnt=(Length)/(Npoints-3) #discrete length of CNT in nm\n",
    "d_cnt=3 #diameter in nm\n",
    "C=3.45E-22 #kg/ps^2\n",
    "\n",
    "mass=np.pi*sigma*d_cnt*X0_cnt #total mass of a CNT\n",
    "\n",
    "K_cnt=(np.pi*C*d_cnt)/(X0_cnt) #extensional rigidity\n",
    "\n",
    "kap_cnt=(K_cnt*d_cnt*d_cnt)/8 #bending rigidity\n",
    "\n",
    "mass_array=np.zeros(Npoints)\n",
    "K_cnt_array=np.zeros(Npoints)\n",
    "kap_cnt_array=np.zeros(Npoints)\n",
    "\n",
    "mass_array.fill(mass)\n",
    "K_cnt_array.fill(K_cnt)\n",
    "kap_cnt_array.fill(kap_cnt)\n",
    "#print(mass_array)\n",
    "#print(K_cnt_array)\n",
    "#print(kap_cnt_array)"
   ]
  },
  {
   "cell_type": "code",
   "execution_count": 30,
   "metadata": {},
   "outputs": [],
   "source": [
    "_fbase= 'mass'\n",
    "for i in range(0,10):\n",
    "    _fname= _fbase + '_00' + str(i) + '.txt'\n",
    "    _fid=open(_fname,'w+b')\n",
    "    _fid.write(bytearray(mass_array))\n",
    "    _fid.close()\n",
    "    \n",
    "for i in range(10,48):\n",
    "    _fname= _fbase + '_0' + str(i) + '.txt'\n",
    "    _fid=open(_fname,'w+b')\n",
    "    _fid.write(bytearray(mass_array))\n",
    "    _fid.close()\n",
    "\n",
    "_fbase='K_cnt'\n",
    "for i in range(0,10):\n",
    "    _fname= _fbase + '_00' + str(i) + '.txt'\n",
    "    _fid=open(_fname,'w+b')\n",
    "    _fid.write(bytearray(K_cnt_array))\n",
    "    _fid.close()\n",
    "    \n",
    "for i in range(10,48):\n",
    "    _fname= _fbase + '_0' + str(i) + '.txt'\n",
    "    _fid=open(_fname,'w+b')\n",
    "    _fid.write(bytearray(mass_array))\n",
    "    _fid.close()\n",
    "\n",
    "_fbase='kap_cnt'\n",
    "for i in range(0,10):\n",
    "    _fname= _fbase + '_00' + str(i) + '.txt'\n",
    "    _fid=open(_fname,'w+b')\n",
    "    _fid.write(bytearray(kap_cnt_array))\n",
    "    _fid.close()\n",
    "    \n",
    "for i in range(10,48):\n",
    "    _fname= _fbase + '_0' + str(i) + '.txt'\n",
    "    _fid=open(_fname,'w+b')\n",
    "    _fid.write(bytearray(mass_array))\n",
    "    _fid.close()"
   ]
  },
  {
   "cell_type": "code",
   "execution_count": 31,
   "metadata": {},
   "outputs": [
    {
     "data": {
      "image/png": "[encoded data removed]",
      "text/plain": [
       "<Figure size 432x288 with 1 Axes>"
      ]
     },
     "metadata": {
      "needs_background": "light"
     },
     "output_type": "display_data"
    }
   ],
   "source": [
    "X0_cnt=Length/(Npoints-3)\n",
    "_x=np.linspace(0,Length,Npoints)[:]\n",
    "_y=np.zeros(np.shape(_x))\n",
    "_y=_x*0\n",
    "x=np.zeros(Npoints)\n",
    "x[::]=_x+X0_cnt\n",
    "y=np.zeros(Npoints)\n",
    "y[::]=_z\n",
    "\n",
    "#print(x)\n",
    "#print(z)\n",
    "\n",
    "_outdata=np.zeros(Npoints*6)\n",
    "\n",
    "_outdata[0::6]=x\n",
    "_outdata[1::6]=y\n",
    "\n",
    "#print(_outdata)\n",
    "\n",
    "plt.plot(x,y)\n",
    "plt.show()"
   ]
  },
  {
   "cell_type": "code",
   "execution_count": 32,
   "metadata": {},
   "outputs": [],
   "source": [
    "_fbase='inputFile'\n",
    "_fname=_fbase + '_0' + str(47) +'.txt'\n",
    "_fid=open(_fname,'w+b')\n",
    "_fid.write(bytearray(_outdata))\n",
    "_fid.close()"
   ]
  },
  {
   "cell_type": "code",
   "execution_count": 33,
   "metadata": {},
   "outputs": [
    {
     "data": {
      "image/png": "[encoded data removed]",
      "text/plain": [
       "<Figure size 432x288 with 1 Axes>"
      ]
     },
     "metadata": {
      "needs_background": "light"
     },
     "output_type": "display_data"
    }
   ],
   "source": [
    "_fname='./initfiles/inputFile_047.txt'\n",
    "_fid=open(_fname)\n",
    "_data=np.fromfile(_fid,dtype='float')\n",
    "Npoints=len(_data)/6\n",
    "_fid.close()\n",
    "x_init=_data[0::6]\n",
    "y_init=_data[1::6]\n",
    "plt.plot(x_init,y_init)\n",
    "plt.show()"
   ]
  },
  {
   "cell_type": "code",
   "execution_count": null,
   "metadata": {},
   "outputs": [],
   "source": []
  }
 ],
 "metadata": {
  "kernelspec": {
   "display_name": "Python 3",
   "language": "python",
   "name": "python3"
  },
  "language_info": {
   "codemirror_mode": {
    "name": "ipython",
    "version": 3
   },
   "file_extension": ".py",
   "mimetype": "text/x-python",
   "name": "python",
   "nbconvert_exporter": "python",
   "pygments_lexer": "ipython3",
   "version": "3.7.6"
  }
 },
 "nbformat": 4,
 "nbformat_minor": 4
}
