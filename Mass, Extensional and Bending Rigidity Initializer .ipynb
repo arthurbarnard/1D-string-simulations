{
 "cells": [
  {
   "cell_type": "code",
   "execution_count": 1,
   "metadata": {},
   "outputs": [],
   "source": [
    "import numpy as np\n",
    "import matplotlib\n",
    "import matplotlib.pyplot as plt"
   ]
  },
  {
   "cell_type": "code",
   "execution_count": 2,
   "metadata": {},
   "outputs": [
    {
     "name": "stdout",
     "output_type": "stream",
     "text": [
      "[1.6010101e-22 1.6010101e-22 1.6010101e-22 1.6010101e-22 1.6010101e-22\n",
      " 1.6010101e-22 1.6010101e-22 1.6010101e-22 1.6010101e-22 1.6010101e-22\n",
      " 1.6010101e-22 1.6010101e-22 1.6010101e-22 1.6010101e-22 1.6010101e-22\n",
      " 1.6010101e-22 1.6010101e-22 1.6010101e-22 1.6010101e-22 1.6010101e-22\n",
      " 1.6010101e-22 1.6010101e-22 1.6010101e-22 1.6010101e-22 1.6010101e-22\n",
      " 1.6010101e-22 1.6010101e-22 1.6010101e-22 1.6010101e-22 1.6010101e-22\n",
      " 1.6010101e-22 1.6010101e-22 1.6010101e-22 1.6010101e-22 1.6010101e-22\n",
      " 1.6010101e-22 1.6010101e-22 1.6010101e-22 1.6010101e-22 1.6010101e-22\n",
      " 1.6010101e-22 1.6010101e-22 1.6010101e-22 1.6010101e-22 1.6010101e-22\n",
      " 1.6010101e-22 1.6010101e-22 1.6010101e-22 1.6010101e-22 1.6010101e-22\n",
      " 1.6010101e-22 1.6010101e-22 1.6010101e-22 1.6010101e-22 1.6010101e-22\n",
      " 1.6010101e-22 1.6010101e-22 1.6010101e-22 1.6010101e-22 1.6010101e-22\n",
      " 1.6010101e-22 1.6010101e-22 1.6010101e-22 1.6010101e-22 1.6010101e-22\n",
      " 1.6010101e-22 1.6010101e-22 1.6010101e-22 1.6010101e-22 1.6010101e-22\n",
      " 1.6010101e-22 1.6010101e-22 1.6010101e-22 1.6010101e-22 1.6010101e-22\n",
      " 1.6010101e-22 1.6010101e-22 1.6010101e-22 1.6010101e-22 1.6010101e-22\n",
      " 1.6010101e-22 1.6010101e-22 1.6010101e-22 1.6010101e-22 1.6010101e-22\n",
      " 1.6010101e-22 1.6010101e-22 1.6010101e-22 1.6010101e-22 1.6010101e-22\n",
      " 1.6010101e-22 1.6010101e-22 1.6010101e-22 1.6010101e-22 1.6010101e-22\n",
      " 1.6010101e-22 1.6010101e-22 1.6010101e-22 1.6010101e-22 1.6010101e-22\n",
      " 1.6010101e-22 1.6010101e-22]\n",
      "[1.98e-26 1.98e-26 1.98e-26 1.98e-26 1.98e-26 1.98e-26 1.98e-26 1.98e-26\n",
      " 1.98e-26 1.98e-26 1.98e-26 1.98e-26 1.98e-26 1.98e-26 1.98e-26 1.98e-26\n",
      " 1.98e-26 1.98e-26 1.98e-26 1.98e-26 1.98e-26 1.98e-26 1.98e-26 1.98e-26\n",
      " 1.98e-26 1.98e-26 1.98e-26 1.98e-26 1.98e-26 1.98e-26 1.98e-26 1.98e-26\n",
      " 1.98e-26 1.98e-26 1.98e-26 1.98e-26 1.98e-26 1.98e-26 1.98e-26 1.98e-26\n",
      " 1.98e-26 1.98e-26 1.98e-26 1.98e-26 1.98e-26 1.98e-26 1.98e-26 1.98e-26\n",
      " 1.98e-26 1.98e-26 1.98e-26 1.98e-26 1.98e-26 1.98e-26 1.98e-26 1.98e-26\n",
      " 1.98e-26 1.98e-26 1.98e-26 1.98e-26 1.98e-26 1.98e-26 1.98e-26 1.98e-26\n",
      " 1.98e-26 1.98e-26 1.98e-26 1.98e-26 1.98e-26 1.98e-26 1.98e-26 1.98e-26\n",
      " 1.98e-26 1.98e-26 1.98e-26 1.98e-26 1.98e-26 1.98e-26 1.98e-26 1.98e-26\n",
      " 1.98e-26 1.98e-26 1.98e-26 1.98e-26 1.98e-26 1.98e-26 1.98e-26 1.98e-26\n",
      " 1.98e-26 1.98e-26 1.98e-26 1.98e-26 1.98e-26 1.98e-26 1.98e-26 1.98e-26\n",
      " 1.98e-26 1.98e-26 1.98e-26 1.98e-26 1.98e-26 1.98e-26]\n",
      "[3.96e-27 3.96e-27 3.96e-27 3.96e-27 3.96e-27 3.96e-27 3.96e-27 3.96e-27\n",
      " 3.96e-27 3.96e-27 3.96e-27 3.96e-27 3.96e-27 3.96e-27 3.96e-27 3.96e-27\n",
      " 3.96e-27 3.96e-27 3.96e-27 3.96e-27 3.96e-27 3.96e-27 3.96e-27 3.96e-27\n",
      " 3.96e-27 3.96e-27 3.96e-27 3.96e-27 3.96e-27 3.96e-27 3.96e-27 3.96e-27\n",
      " 3.96e-27 3.96e-27 3.96e-27 3.96e-27 3.96e-27 3.96e-27 3.96e-27 3.96e-27\n",
      " 3.96e-27 3.96e-27 3.96e-27 3.96e-27 3.96e-27 3.96e-27 3.96e-27 3.96e-27\n",
      " 3.96e-27 3.96e-27 3.96e-27 3.96e-27 3.96e-27 3.96e-27 3.96e-27 3.96e-27\n",
      " 3.96e-27 3.96e-27 3.96e-27 3.96e-27 3.96e-27 3.96e-27 3.96e-27 3.96e-27\n",
      " 3.96e-27 3.96e-27 3.96e-27 3.96e-27 3.96e-27 3.96e-27 3.96e-27 3.96e-27\n",
      " 3.96e-27 3.96e-27 3.96e-27 3.96e-27 3.96e-27 3.96e-27 3.96e-27 3.96e-27\n",
      " 3.96e-27 3.96e-27 3.96e-27 3.96e-27 3.96e-27 3.96e-27 3.96e-27 3.96e-27\n",
      " 3.96e-27 3.96e-27 3.96e-27 3.96e-27 3.96e-27 3.96e-27 3.96e-27 3.96e-27\n",
      " 3.96e-27 3.96e-27 3.96e-27 3.96e-27 3.96e-27 3.96e-27]\n"
     ]
    }
   ],
   "source": [
    "##Here will calculate mass,K_cnt, and kap_cnt based on known values.\n",
    "\n",
    "#Length= 10000 #length of CNT in nm\n",
    "Length = 5000 #length of DNA molecule in nm\n",
    "mu0 = 3.17E-24 #mass per unit length of DNA in kg/nm\n",
    "stiffness=1E-24\n",
    "Bs=2E-25\n",
    "strain = 0\n",
    "\n",
    "Npoints= 102 #number of masses in DNA\n",
    "\n",
    "N_cnt= Npoints*6 #number of masses in DNA with with the degrees of freedom per mass included\n",
    "#sigma= 7.767E-25 #kg/nm^2\n",
    "\n",
    "X0_cnt= (Length)/(Npoints-3) #discrete length of DNA in nm\n",
    "\n",
    "#mass= mu0*X0_cnt #mass of a CNT in kg\n",
    "mass= 3.17E-24*X0_cnt #mass of DNA in kg\n",
    "\n",
    "#K_cnt= (np.pi*C*d_cnt)/(X0_cnt) #spring constant of CNT in kg/ps^2\n",
    "K_cnt= stiffness/X0_cnt #spring constant of DNA in kg/ps^2\n",
    "\n",
    "#kap_cnt= (K_cnt*d_cnt*d_cnt)/8 #torque applied to CNT in kg*nm^3/ps^2\n",
    "kap_cnt= Bs/X0_cnt #torque applied to CNT in kg*nm^3/ps^2 at 300K\n",
    "\n",
    "##We now populate arrays using the calculated values\n",
    "\n",
    "mass_array=np.zeros(Npoints)\n",
    "K_cnt_array=np.zeros(Npoints)\n",
    "kap_cnt_array=np.zeros(Npoints)\n",
    "\n",
    "mass_array.fill(mass)\n",
    "K_cnt_array.fill(K_cnt)\n",
    "kap_cnt_array.fill(kap_cnt)\n",
    "print(mass_array)\n",
    "print(K_cnt_array)\n",
    "print(kap_cnt_array)"
   ]
  },
  {
   "cell_type": "code",
   "execution_count": 3,
   "metadata": {},
   "outputs": [],
   "source": [
    "##Here we write in files for mass,K_cnt, and kap_cnt using the populated arrays above\n",
    "\n",
    "_fbase= './initfiles/mass'\n",
    "for i in range(0,10):\n",
    "    _fname= _fbase + '_00' + str(i) + '.txt'\n",
    "    _fid=open(_fname,'w+b')\n",
    "    _fid.write(bytearray(mass_array))\n",
    "    _fid.close()\n",
    "    \n",
    "for i in range(10,48):\n",
    "    _fname= _fbase + '_0' + str(i) + '.txt'\n",
    "    _fid=open(_fname,'w+b')\n",
    "    _fid.write(bytearray(mass_array))\n",
    "    _fid.close()\n",
    "\n",
    "_fbase='./initfiles/K_cnt'\n",
    "for i in range(0,10):\n",
    "    _fname= _fbase + '_00' + str(i) + '.txt'\n",
    "    _fid=open(_fname,'w+b')\n",
    "    _fid.write(bytearray(K_cnt_array))\n",
    "    _fid.close()\n",
    "    \n",
    "for i in range(10,48):\n",
    "    _fname= _fbase + '_0' + str(i) + '.txt'\n",
    "    _fid=open(_fname,'w+b')\n",
    "    _fid.write(bytearray(K_cnt_array))\n",
    "    _fid.close()\n",
    "\n",
    "_fbase='./initfiles/kap_cnt'\n",
    "for i in range(0,10):\n",
    "    _fname= _fbase + '_00' + str(i) + '.txt'\n",
    "    _fid=open(_fname,'w+b')\n",
    "    _fid.write(bytearray(kap_cnt_array))\n",
    "    _fid.close()\n",
    "    \n",
    "for i in range(10,48):\n",
    "    _fname= _fbase + '_0' + str(i) + '.txt'\n",
    "    _fid=open(_fname,'w+b')\n",
    "    _fid.write(bytearray(kap_cnt_array))\n",
    "    _fid.close()"
   ]
  },
  {
   "cell_type": "code",
   "execution_count": 4,
   "metadata": {},
   "outputs": [
    {
     "data": {
      "image/png": "[encoded data removed]",
      "text/plain": [
       "<Figure size 432x288 with 1 Axes>"
      ]
     },
     "metadata": {
      "needs_background": "light"
     },
     "output_type": "display_data"
    }
   ],
   "source": [
    "##Here we calculate the initial position of a string with persistence length similar to DNA (The XO_cnt calculated above)\n",
    "\n",
    "_x=np.arange(0,Npoints)[:]\n",
    "_y=np.zeros(np.shape(_x))\n",
    "\n",
    "_y=_x*0\n",
    "\n",
    "x=np.zeros(Npoints)\n",
    "x[::]=_x*X0_cnt*(1+strain)\n",
    "y=np.zeros(Npoints)\n",
    "y[::]=_y\n",
    "\n",
    "#print(x)\n",
    "#print(y)\n",
    "\n",
    "_outdata=np.zeros(Npoints*6)\n",
    "_outdata[0::6]=x\n",
    "_outdata[1::6]=y\n",
    "\n",
    "#print(_outdata)\n",
    "\n",
    "plt.plot(x,y)\n",
    "plt.show()"
   ]
  },
  {
   "cell_type": "code",
   "execution_count": 5,
   "metadata": {},
   "outputs": [],
   "source": [
    "##Generate an inputFile for the initial position of this DNA molecule\n",
    "\n",
    "_fbase='./initfiles/inputFile'\n",
    "for i in range(0,10):\n",
    "    _fname= _fbase + '_00' + str(i) + '.txt'\n",
    "    _fid=open(_fname,'w+b')\n",
    "    _fid.write(bytearray(_outdata))\n",
    "    _fid.close()\n",
    "for i in range(10,48):\n",
    "    _fname= _fbase + '_0' + str(i) + '.txt'\n",
    "    _fid=open(_fname,'w+b')\n",
    "    _fid.write(bytearray(_outdata))\n",
    "    _fid.close()"
   ]
  },
  {
   "cell_type": "code",
   "execution_count": 6,
   "metadata": {},
   "outputs": [
    {
     "data": {
      "image/png": "[encoded data removed]",
      "text/plain": [
       "<Figure size 432x288 with 1 Axes>"
      ]
     },
     "metadata": {
      "needs_background": "light"
     },
     "output_type": "display_data"
    }
   ],
   "source": [
    "##Read in file to double check that we generated the file successfully \n",
    "\n",
    "_fname='./initfiles/inputFile_047.txt'\n",
    "_fid=open(_fname)\n",
    "_data=np.fromfile(_fid,dtype='float')\n",
    "Npoints=len(_data)/6\n",
    "_fid.close()\n",
    "x_init=_data[0::6]\n",
    "y_init=_data[1::6]\n",
    "plt.plot(x_init,y_init)\n",
    "plt.show()"
   ]
  },
  {
   "cell_type": "code",
   "execution_count": 31,
   "metadata": {},
   "outputs": [
    {
     "name": "stdout",
     "output_type": "stream",
     "text": [
      "3.128e-14\n",
      "1.5280000000000002e-14\n"
     ]
    }
   ],
   "source": [
    "_fbase= './initfiles1/K_cnt'\n",
    "\n",
    "DNA_stiffness_max=1564E-12\n",
    "DNA_stiffness_min=764E-12\n",
    "X0_cnt=50E-9\n",
    "K_cnt_max=(DNA_stiffness_max/X0_cnt)*1E-12\n",
    "K_cnt_min=(DNA_stiffness_min/X0_cnt)*1E-12\n",
    "print(K_cnt_max)\n",
    "print(K_cnt_min)\n",
    "\n",
    "#Uncomment to test K_cnt periodicity for n=10\n",
    "#_x=np.arange(102)\n",
    "#_y=np.zeros(102)\n",
    "#_y2=np.zeros(102)\n",
    "\n",
    "#_y=K_cnt_max*(np.cos(10*(_x+1)*2*np.pi/103)>0).astype(int)\n",
    "#_y2=K_cnt_min*(np.sin(10*(_x+7)*2*np.pi/103)>0).astype(int)\n",
    "#_ytotal=_y+_y2\n",
    "\n",
    "#for i in range(len(_ytotal)):\n",
    "    #if _ytotal[i] >= 4.656E-14:\n",
    "        #_ytotal[i] = K_cnt_max\n",
    "    #elif _ytotal[i] <= 0:\n",
    "        #_ytotal[i] =K_cnt_min\n",
    "#print(_ytotal)\n",
    "#plt.plot(_x,_ytotal)\n",
    "#plt.show()\n",
    "\n",
    "for n in range(0,10):\n",
    "    \n",
    "    _x=np.arange(102)\n",
    "    _y=np.zeros(102)\n",
    "    _y2=np.zeros(102)\n",
    "\n",
    "    _y=K_cnt_max*(np.cos(n*(_x+1)*2*np.pi/103)>0).astype(int)\n",
    "\n",
    "    _y2=K_cnt_min*(np.sin(n*(_x+7)*2*np.pi/103)>0).astype(int)\n",
    "\n",
    "    _ytotal=_y+_y2\n",
    "    for i in range(len(_ytotal)):\n",
    "        if _ytotal[i] >= 4.656E-14:\n",
    "            _ytotal[i] = K_cnt_max\n",
    "        elif _ytotal[i] <= 0:\n",
    "            _ytotal[i] = K_cnt_min\n",
    "            \n",
    "    _fname= _fbase + '_00' + str(n) + '.txt'\n",
    "    _fid=open(_fname,'w+b')\n",
    "    _fid.write(bytearray(_ytotal))\n",
    "    _fid.close()     \n",
    "    \n",
    "for n in range(10,48):\n",
    "    \n",
    "    _x=np.arange(102)\n",
    "    _y=np.zeros(102)\n",
    "    _y=np.zeros(102)\n",
    "\n",
    "    _y=K_cnt_max*(np.cos(n*(_x+1)*2*np.pi/103)>0).astype(int)\n",
    "\n",
    "    _y2=K_cnt_min*(np.sin(n*(_x+7)*2*np.pi/103)>0).astype(int)\n",
    "\n",
    "    _ytotal=_y+_y2\n",
    "    for i in range(len(_ytotal)):\n",
    "        if _ytotal[i] >= 4.656E-14:\n",
    "            _ytotal[i] = K_cnt_max\n",
    "        elif _ytotal[i] <= 0:\n",
    "            _ytotal[i] = K_cnt_min  \n",
    "            \n",
    "    _fname= _fbase + '_0' + str(n) + '.txt'\n",
    "    _fid=open(_fname,'w+b')\n",
    "    _fid.write(bytearray(_ytotal))\n",
    "    _fid.close()"
   ]
  },
  {
   "cell_type": "code",
   "execution_count": null,
   "metadata": {},
   "outputs": [],
   "source": []
  }
 ],
 "metadata": {
  "hide_input": false,
  "kernelspec": {
   "display_name": "Python 3",
   "language": "python",
   "name": "python3"
  },
  "language_info": {
   "codemirror_mode": {
    "name": "ipython",
    "version": 3
   },
   "file_extension": ".py",
   "mimetype": "text/x-python",
   "name": "python",
   "nbconvert_exporter": "python",
   "pygments_lexer": "ipython3",
   "version": "3.7.6"
  },
  "toc": {
   "nav_menu": {},
   "number_sections": true,
   "sideBar": true,
   "skip_h1_title": true,
   "toc_cell": false,
   "toc_position": {},
   "toc_section_display": "block",
   "toc_window_display": false
  }
 },
 "nbformat": 4,
 "nbformat_minor": 4
}
